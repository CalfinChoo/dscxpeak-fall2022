{
 "cells": [
  {
   "cell_type": "code",
   "execution_count": 33,
   "metadata": {
    "_cell_guid": "b1076dfc-b9ad-4769-8c92-a6c4dae69d19",
    "_uuid": "8f2839f25d086af736a60e9eeb907d3b93b6e0e5"
   },
   "outputs": [
    {
     "name": "stdout",
     "output_type": "stream",
     "text": [
      "9\n"
     ]
    }
   ],
   "source": [
    "# This Python 3 environment comes with many helpful analytics libraries installed\n",
    "# It is defined by the kaggle/python Docker image: https://github.com/kaggle/docker-python\n",
    "# For example, here's several helpful packages to load\n",
    "\n",
    "import numpy as np # linear algebra\n",
    "import pandas as pd # data processing, CSV file I/O (e.g. pd.read_csv)\n",
    "import glob\n",
    "from functools import reduce\n",
    "from pandasql import sqldf\n",
    "import matplotlib as mpl\n",
    "import matplotlib.pyplot as plt\n",
    "from sklearn.model_selection import train_test_split\n",
    "from sklearn.preprocessing import StandardScaler\n",
    "from sklearn.neighbors import KNeighborsRegressor\n",
    "from scipy.sparse import csr_matrix\n",
    "from sklearn.neighbors import NearestNeighbors\n",
    "\n",
    "pysqldf = lambda q: sqldf(q, globals())\n",
    "\n",
    "import os\n",
    "\n",
    "path = os.getcwd() + r'/archive' # use your path\n",
    "# print(path)\n",
    "# all_files = glob.glob(os.path.join(path , \"/*.csv\"))\n",
    "# print(all_files)\n",
    "\n",
    "\n",
    "directory = \"\"\n",
    "li = []\n",
    "\n",
    "for filename in sorted(os.listdir(path)):\n",
    "    if(filename == \"merged_data.csv\"):\n",
    "        continue\n",
    "    file = os.path.join(path, filename)\n",
    "    df = pd.read_csv(file)\n",
    "    li.append(df)\n",
    "print(len(li))"
   ]
  },
  {
   "cell_type": "code",
   "execution_count": 34,
   "metadata": {},
   "outputs": [
    {
     "name": "stdout",
     "output_type": "stream",
     "text": [
      "                            customer_id                customer_unique_id  \\\n",
      "0      06b8999e2fba1a1fbc88172c00ba8bc7  861eff4711a542e4b93843c6dd7febb0   \n",
      "1      18955e83d337fd6b2def6b18a428ac77  290c77bc529b7ac935b93aa66c333dc3   \n",
      "2      4e7b3e00288586ebd08712fdd0374a03  060e732b5b29e8181a18229c7b0b2b5e   \n",
      "3      b2b6027bc5c5109e529d4dc6358b12c3  259dac757896d24d7702b9acbbff3f3c   \n",
      "4      4f2d8ab171c80ec8364f7c12e35b23ad  345ecd01c38d18a9036ed96c73b8d066   \n",
      "...                                 ...                               ...   \n",
      "99436  17ddf5dd5d51696bb3d7c6291687be6f  1a29b476fee25c95fbafc67c5ac95cf8   \n",
      "99437  e7b71a9017aa05c9a7fd292d714858e8  d52a67c98be1cf6a5c84435bd38d095d   \n",
      "99438  5e28dfe12db7fb50a4b2f691faecea5e  e9f50caf99f032f0bf3c55141f019d99   \n",
      "99439  56b18e2166679b8a959d72dd06da27f9  73c2643a0a458b49f58cea58833b192e   \n",
      "99440  274fa6071e5e17fe303b9748641082c8  84732c5050c01db9b23e19ba39899398   \n",
      "\n",
      "       customer_zip_code_prefix          customer_city customer_state  \n",
      "0                         14409                 franca             SP  \n",
      "1                          9790  sao bernardo do campo             SP  \n",
      "2                          1151              sao paulo             SP  \n",
      "3                          8775        mogi das cruzes             SP  \n",
      "4                         13056               campinas             SP  \n",
      "...                         ...                    ...            ...  \n",
      "99436                      3937              sao paulo             SP  \n",
      "99437                      6764        taboao da serra             SP  \n",
      "99438                     60115              fortaleza             CE  \n",
      "99439                     92120                 canoas             RS  \n",
      "99440                      6703                  cotia             SP  \n",
      "\n",
      "[99441 rows x 5 columns]\n"
     ]
    }
   ],
   "source": [
    "df_customers, df_geolocation, df_order_items, df_order_payments, df_order_reviews, df_orders, df_products, df_sellers, df_category_name_translation = li\n",
    "print(df_customers)"
   ]
  },
  {
   "cell_type": "code",
   "execution_count": 35,
   "metadata": {},
   "outputs": [],
   "source": [
    "order_customers = [df_orders, df_customers]\n",
    "merged_orders_customers = reduce(lambda left, right: pd.merge(left, right, on=[\"customer_id\"], how=\"inner\"), order_customers)\n",
    "order_customers_items = [merged_orders_customers, df_order_items]\n",
    "merged_orders_customers_items = reduce(lambda left, right: pd.merge(left, right, on=[\"order_id\"], how='inner'), order_customers_items)\n",
    "order_customers_items_products = [merged_orders_customers_items, df_products]\n",
    "merged_orders_customers_items_products = reduce(lambda left, right: pd.merge(left, right, on=[\"product_id\"], how='inner'), order_customers_items_products)\n",
    "order_customers_items_products_names = [merged_orders_customers_items_products, df_category_name_translation]\n",
    "merged_orders_customers_items_products_names = reduce(lambda left, right: pd.merge(left, right, on=[\"product_category_name\"], how='inner'), order_customers_items_products_names)\n"
   ]
  },
  {
   "cell_type": "code",
   "execution_count": null,
   "metadata": {},
   "outputs": [],
   "source": [
    "df_aggregate_product = pd.DataFrame(merged_orders_customers_items_products_names['product_id'].unique(), columns=[\"product_id\"])\n",
    "\n",
    "q = pysqldf(\"\"\"\n",
    "    SELECT product_id, AVG(review_score) as average_score FROM merged_orders_customers_items_products_names NATURAL JOIN df_order_reviews GROUP BY 1\n",
    "    HAVING COUNT(product_id) > 50\n",
    "\"\"\")\n",
    "df_aggregate_product = reduce(lambda left, right: pd.merge(left, right, on=[\"product_id\"], how=\"inner\"), [df_aggregate_product, q])\n",
    "\n",
    "q = pysqldf(\"\"\"\n",
    "    SELECT product_id, COUNT(product_id) as times_bought FROM merged_orders_customers_items GROUP BY product_id\n",
    "\"\"\")\n",
    "df_aggregate_product = reduce(lambda left, right: pd.merge(left, right, on=[\"product_id\"], how=\"inner\"), [df_aggregate_product, q])\n",
    "print(df_aggregate_product)\n"
   ]
  },
  {
   "cell_type": "code",
   "execution_count": null,
   "metadata": {},
   "outputs": [],
   "source": [
    "products_bought_graph = df_aggregate_product.iloc[:500].reset_index().plot(x='index', y='times_bought', kind='scatter', figsize=(8,8))\n",
    "products_bought_graph.set_xlabel(\"Product index\")\n",
    "products_bought_graph.set_ylabel(\"Times Bought\")\n"
   ]
  },
  {
   "cell_type": "code",
   "execution_count": null,
   "metadata": {},
   "outputs": [],
   "source": [
    "\n",
    "products_review_graph = df_aggregate_product.iloc[:500].reset_index().plot(x='index', y='average_score', kind='scatter')\n",
    "products_review_graph.set_xlabel(\"Product index\")\n",
    "products_review_graph.set_ylabel(\"Review Score\")"
   ]
  },
  {
   "cell_type": "code",
   "execution_count": null,
   "metadata": {},
   "outputs": [],
   "source": [
    "merged_orders_customers_items_products_names = merged_orders_customers_items_products_names.drop(columns=[\"order_status\", \"order_purchase_timestamp\", \"order_approved_at\", \"order_delivered_carrier_date\", \"order_delivered_customer_date\", \"order_estimated_delivery_date\", \"customer_zip_code_prefix\", \"customer_city\", \"order_item_id\", \"seller_id\", \"shipping_limit_date\", \"price\", \"freight_value\", \"product_category_name\", \"product_name_lenght\", \"product_description_lenght\", \"product_photos_qty\", \"product_weight_g\", \"product_length_cm\", \"product_width_cm\", \"product_height_cm\"])\n",
    "merged_orders_customers_items_products_names.to_csv(os.path.join(path, \"merged_data.csv\"), index=False)"
   ]
  },
  {
   "cell_type": "code",
   "execution_count": null,
   "metadata": {},
   "outputs": [],
   "source": [
    "df_filtered = merged_orders_customers_items_products_names[['customer_unique_id', 'product_category_name_english', 'product_id']]\n",
    "# print(df_filtered)\n",
    "\n",
    "# df_table.head()\n",
    "# X = pd.get_dummies(df_filtered['product_category_name_english'])\n",
    "# y = pd.get_dummies(df_filtered['product_id']).to_numpy()\n",
    "y = pd.Categorical(df_filtered['product_category_name_english']).codes\n",
    "y = pd.DataFrame(y, columns=['product_category_name_english'])\n",
    "df_filtered = df_filtered.drop('product_category_name_english', axis=1);\n",
    "df_filtered = df_filtered.join(y);\n",
    "y = pd.Categorical(df_filtered['customer_unique_id']).codes\n",
    "y = pd.DataFrame(y, columns=['customer_unique_id'])\n",
    "df_filtered = df_filtered.drop('customer_unique_id', axis=1);\n",
    "df_filtered = df_filtered.join(y);\n",
    "print(df_filtered)\n",
    "df_table = df_filtered.pivot_table(index=\"product_id\", columns=\"product_category_name_english\").fillna(0);\n",
    "df_table.head()\n",
    "\n",
    "\n",
    "df_matrix = csr_matrix(df_table.values)\n",
    "model_knn = NearestNeighbors(metric = 'cosine', algorithm = 'brute')\n",
    "model_knn.fit(df_matrix)\n",
    "\n",
    "q = 103\n",
    "distances, indices = model_knn.kneighbors(df_table.iloc[q,:].values.reshape(1, -1), n_neighbors = 6)\n",
    "\n",
    "for i in range(0, len(distances.flatten())):\n",
    "    if i == 0:\n",
    "        print('Recommendations for {0}:\\n'.format(df_table.index[0]))\n",
    "        row = merged_orders_customers_items_products_names.loc[merged_orders_customers_items_products_names['product_id'] == df_table.index[indices.flatten()[0]]]\n",
    "        print(row['product_category_name_english'].unique()[0])\n",
    "    else:\n",
    "        print('{0}: {1}, with distance of {2}:'.format(i, df_table.index[indices.flatten()[i]], distances.flatten()[i]))\n",
    "        row = merged_orders_customers_items_products_names.loc[merged_orders_customers_items_products_names['product_id'] == df_table.index[indices.flatten()[i]]]\n",
    "        print(row['product_category_name_english'].unique()[0])"
   ]
  }
 ],
 "metadata": {
  "kernelspec": {
   "display_name": "Python 3 (ipykernel)",
   "language": "python",
   "name": "python3"
  },
  "language_info": {
   "codemirror_mode": {
    "name": "ipython",
    "version": 3
   },
   "file_extension": ".py",
   "mimetype": "text/x-python",
   "name": "python",
   "nbconvert_exporter": "python",
   "pygments_lexer": "ipython3",
   "version": "3.8.5"
  }
 },
 "nbformat": 4,
 "nbformat_minor": 4
}
